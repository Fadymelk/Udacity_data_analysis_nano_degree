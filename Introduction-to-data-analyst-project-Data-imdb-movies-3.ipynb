{
 "cells": [
  {
   "cell_type": "markdown",
   "metadata": {},
   "source": [
    "# Research: Investigate the Dataset (TMDb Movie)\n",
    "\n",
    "## Table of Contents\n",
    "<ul>\n",
    "<li><a href=\"#intro\">Introduction</a></li>\n",
    "<li><a href=\"#wrangling\">Data Wrangling</a></li>\n",
    "<li><a href=\"#eda\">Exploratory Data Analysis</a></li>\n",
    "<li><a href=\"#conclusions\">Conclusions</a></li>\n",
    "</ul>"
   ]
  },
  {
   "cell_type": "markdown",
   "metadata": {},
   "source": [
    "<a id='intro'></a>\n",
    "## Introduction\n",
    "### In this research I will explore the TMDb  wich contain a data about the movies & I will try to answer this questions: "
   ]
  },
  {
   "cell_type": "markdown",
   "metadata": {},
   "source": [
    "\n",
    "<li> What is the most popular and profitable gener?\n",
    "<li> Is the movie industry's profit increasing over the year? \n",
    "<li> Is there a relationship in populartiy and rating?"
   ]
  },
  {
   "cell_type": "code",
   "execution_count": 2,
   "metadata": {},
   "outputs": [],
   "source": [
    "#Load your data and print out a few lines. Perform operations to inspect data\n",
    "import numpy as np\n",
    "import pandas as pd\n",
    "import matplotlib.pyplot as plt\n",
    "import seaborn as sns\n",
    "%matplotlib inline\n",
    "import plotly.express as px # for visualization \n",
    "import plotly.offline as py \n",
    "import plotly.graph_objs as go \n",
    "from plotly.figure_factory import create_table # for creating nice table \n",
    "# types and look for instances of missing or possibly errant data.\n",
    "df = pd.read_csv('tmdb-movies.csv')"
   ]
  },
  {
   "cell_type": "markdown",
   "metadata": {},
   "source": [
    "<a id='wrangling'></a>\n",
    "## Data Wrangling\n",
    "\n",
    "\n",
    "### General Properties"
   ]
  },
  {
   "cell_type": "markdown",
   "metadata": {},
   "source": [
    "#### Expplore the dataset: with (Head, Shape & Info Function)"
   ]
  },
  {
   "cell_type": "code",
   "execution_count": 3,
   "metadata": {},
   "outputs": [
    {
     "data": {
      "text/html": [
       "<div>\n",
       "<style scoped>\n",
       "    .dataframe tbody tr th:only-of-type {\n",
       "        vertical-align: middle;\n",
       "    }\n",
       "\n",
       "    .dataframe tbody tr th {\n",
       "        vertical-align: top;\n",
       "    }\n",
       "\n",
       "    .dataframe thead th {\n",
       "        text-align: right;\n",
       "    }\n",
       "</style>\n",
       "<table border=\"1\" class=\"dataframe\">\n",
       "  <thead>\n",
       "    <tr style=\"text-align: right;\">\n",
       "      <th></th>\n",
       "      <th>id</th>\n",
       "      <th>imdb_id</th>\n",
       "      <th>popularity</th>\n",
       "      <th>budget</th>\n",
       "      <th>revenue</th>\n",
       "      <th>original_title</th>\n",
       "      <th>cast</th>\n",
       "      <th>homepage</th>\n",
       "      <th>director</th>\n",
       "      <th>tagline</th>\n",
       "      <th>...</th>\n",
       "      <th>overview</th>\n",
       "      <th>runtime</th>\n",
       "      <th>genres</th>\n",
       "      <th>production_companies</th>\n",
       "      <th>release_date</th>\n",
       "      <th>vote_count</th>\n",
       "      <th>vote_average</th>\n",
       "      <th>release_year</th>\n",
       "      <th>budget_adj</th>\n",
       "      <th>revenue_adj</th>\n",
       "    </tr>\n",
       "  </thead>\n",
       "  <tbody>\n",
       "    <tr>\n",
       "      <th>0</th>\n",
       "      <td>135397</td>\n",
       "      <td>tt0369610</td>\n",
       "      <td>32.985763</td>\n",
       "      <td>150000000</td>\n",
       "      <td>1513528810</td>\n",
       "      <td>Jurassic World</td>\n",
       "      <td>Chris Pratt|Bryce Dallas Howard|Irrfan Khan|Vi...</td>\n",
       "      <td>http://www.jurassicworld.com/</td>\n",
       "      <td>Colin Trevorrow</td>\n",
       "      <td>The park is open.</td>\n",
       "      <td>...</td>\n",
       "      <td>Twenty-two years after the events of Jurassic ...</td>\n",
       "      <td>124</td>\n",
       "      <td>Action|Adventure|Science Fiction|Thriller</td>\n",
       "      <td>Universal Studios|Amblin Entertainment|Legenda...</td>\n",
       "      <td>6/9/15</td>\n",
       "      <td>5562</td>\n",
       "      <td>6.5</td>\n",
       "      <td>2015</td>\n",
       "      <td>1.379999e+08</td>\n",
       "      <td>1.392446e+09</td>\n",
       "    </tr>\n",
       "    <tr>\n",
       "      <th>1</th>\n",
       "      <td>76341</td>\n",
       "      <td>tt1392190</td>\n",
       "      <td>28.419936</td>\n",
       "      <td>150000000</td>\n",
       "      <td>378436354</td>\n",
       "      <td>Mad Max: Fury Road</td>\n",
       "      <td>Tom Hardy|Charlize Theron|Hugh Keays-Byrne|Nic...</td>\n",
       "      <td>http://www.madmaxmovie.com/</td>\n",
       "      <td>George Miller</td>\n",
       "      <td>What a Lovely Day.</td>\n",
       "      <td>...</td>\n",
       "      <td>An apocalyptic story set in the furthest reach...</td>\n",
       "      <td>120</td>\n",
       "      <td>Action|Adventure|Science Fiction|Thriller</td>\n",
       "      <td>Village Roadshow Pictures|Kennedy Miller Produ...</td>\n",
       "      <td>5/13/15</td>\n",
       "      <td>6185</td>\n",
       "      <td>7.1</td>\n",
       "      <td>2015</td>\n",
       "      <td>1.379999e+08</td>\n",
       "      <td>3.481613e+08</td>\n",
       "    </tr>\n",
       "    <tr>\n",
       "      <th>2</th>\n",
       "      <td>262500</td>\n",
       "      <td>tt2908446</td>\n",
       "      <td>13.112507</td>\n",
       "      <td>110000000</td>\n",
       "      <td>295238201</td>\n",
       "      <td>Insurgent</td>\n",
       "      <td>Shailene Woodley|Theo James|Kate Winslet|Ansel...</td>\n",
       "      <td>http://www.thedivergentseries.movie/#insurgent</td>\n",
       "      <td>Robert Schwentke</td>\n",
       "      <td>One Choice Can Destroy You</td>\n",
       "      <td>...</td>\n",
       "      <td>Beatrice Prior must confront her inner demons ...</td>\n",
       "      <td>119</td>\n",
       "      <td>Adventure|Science Fiction|Thriller</td>\n",
       "      <td>Summit Entertainment|Mandeville Films|Red Wago...</td>\n",
       "      <td>3/18/15</td>\n",
       "      <td>2480</td>\n",
       "      <td>6.3</td>\n",
       "      <td>2015</td>\n",
       "      <td>1.012000e+08</td>\n",
       "      <td>2.716190e+08</td>\n",
       "    </tr>\n",
       "    <tr>\n",
       "      <th>3</th>\n",
       "      <td>140607</td>\n",
       "      <td>tt2488496</td>\n",
       "      <td>11.173104</td>\n",
       "      <td>200000000</td>\n",
       "      <td>2068178225</td>\n",
       "      <td>Star Wars: The Force Awakens</td>\n",
       "      <td>Harrison Ford|Mark Hamill|Carrie Fisher|Adam D...</td>\n",
       "      <td>http://www.starwars.com/films/star-wars-episod...</td>\n",
       "      <td>J.J. Abrams</td>\n",
       "      <td>Every generation has a story.</td>\n",
       "      <td>...</td>\n",
       "      <td>Thirty years after defeating the Galactic Empi...</td>\n",
       "      <td>136</td>\n",
       "      <td>Action|Adventure|Science Fiction|Fantasy</td>\n",
       "      <td>Lucasfilm|Truenorth Productions|Bad Robot</td>\n",
       "      <td>12/15/15</td>\n",
       "      <td>5292</td>\n",
       "      <td>7.5</td>\n",
       "      <td>2015</td>\n",
       "      <td>1.839999e+08</td>\n",
       "      <td>1.902723e+09</td>\n",
       "    </tr>\n",
       "    <tr>\n",
       "      <th>4</th>\n",
       "      <td>168259</td>\n",
       "      <td>tt2820852</td>\n",
       "      <td>9.335014</td>\n",
       "      <td>190000000</td>\n",
       "      <td>1506249360</td>\n",
       "      <td>Furious 7</td>\n",
       "      <td>Vin Diesel|Paul Walker|Jason Statham|Michelle ...</td>\n",
       "      <td>http://www.furious7.com/</td>\n",
       "      <td>James Wan</td>\n",
       "      <td>Vengeance Hits Home</td>\n",
       "      <td>...</td>\n",
       "      <td>Deckard Shaw seeks revenge against Dominic Tor...</td>\n",
       "      <td>137</td>\n",
       "      <td>Action|Crime|Thriller</td>\n",
       "      <td>Universal Pictures|Original Film|Media Rights ...</td>\n",
       "      <td>4/1/15</td>\n",
       "      <td>2947</td>\n",
       "      <td>7.3</td>\n",
       "      <td>2015</td>\n",
       "      <td>1.747999e+08</td>\n",
       "      <td>1.385749e+09</td>\n",
       "    </tr>\n",
       "  </tbody>\n",
       "</table>\n",
       "<p>5 rows × 21 columns</p>\n",
       "</div>"
      ],
      "text/plain": [
       "       id    imdb_id  popularity     budget     revenue  \\\n",
       "0  135397  tt0369610   32.985763  150000000  1513528810   \n",
       "1   76341  tt1392190   28.419936  150000000   378436354   \n",
       "2  262500  tt2908446   13.112507  110000000   295238201   \n",
       "3  140607  tt2488496   11.173104  200000000  2068178225   \n",
       "4  168259  tt2820852    9.335014  190000000  1506249360   \n",
       "\n",
       "                 original_title  \\\n",
       "0                Jurassic World   \n",
       "1            Mad Max: Fury Road   \n",
       "2                     Insurgent   \n",
       "3  Star Wars: The Force Awakens   \n",
       "4                     Furious 7   \n",
       "\n",
       "                                                cast  \\\n",
       "0  Chris Pratt|Bryce Dallas Howard|Irrfan Khan|Vi...   \n",
       "1  Tom Hardy|Charlize Theron|Hugh Keays-Byrne|Nic...   \n",
       "2  Shailene Woodley|Theo James|Kate Winslet|Ansel...   \n",
       "3  Harrison Ford|Mark Hamill|Carrie Fisher|Adam D...   \n",
       "4  Vin Diesel|Paul Walker|Jason Statham|Michelle ...   \n",
       "\n",
       "                                            homepage          director  \\\n",
       "0                      http://www.jurassicworld.com/   Colin Trevorrow   \n",
       "1                        http://www.madmaxmovie.com/     George Miller   \n",
       "2     http://www.thedivergentseries.movie/#insurgent  Robert Schwentke   \n",
       "3  http://www.starwars.com/films/star-wars-episod...       J.J. Abrams   \n",
       "4                           http://www.furious7.com/         James Wan   \n",
       "\n",
       "                         tagline  ...  \\\n",
       "0              The park is open.  ...   \n",
       "1             What a Lovely Day.  ...   \n",
       "2     One Choice Can Destroy You  ...   \n",
       "3  Every generation has a story.  ...   \n",
       "4            Vengeance Hits Home  ...   \n",
       "\n",
       "                                            overview runtime  \\\n",
       "0  Twenty-two years after the events of Jurassic ...     124   \n",
       "1  An apocalyptic story set in the furthest reach...     120   \n",
       "2  Beatrice Prior must confront her inner demons ...     119   \n",
       "3  Thirty years after defeating the Galactic Empi...     136   \n",
       "4  Deckard Shaw seeks revenge against Dominic Tor...     137   \n",
       "\n",
       "                                      genres  \\\n",
       "0  Action|Adventure|Science Fiction|Thriller   \n",
       "1  Action|Adventure|Science Fiction|Thriller   \n",
       "2         Adventure|Science Fiction|Thriller   \n",
       "3   Action|Adventure|Science Fiction|Fantasy   \n",
       "4                      Action|Crime|Thriller   \n",
       "\n",
       "                                production_companies release_date vote_count  \\\n",
       "0  Universal Studios|Amblin Entertainment|Legenda...       6/9/15       5562   \n",
       "1  Village Roadshow Pictures|Kennedy Miller Produ...      5/13/15       6185   \n",
       "2  Summit Entertainment|Mandeville Films|Red Wago...      3/18/15       2480   \n",
       "3          Lucasfilm|Truenorth Productions|Bad Robot     12/15/15       5292   \n",
       "4  Universal Pictures|Original Film|Media Rights ...       4/1/15       2947   \n",
       "\n",
       "   vote_average  release_year    budget_adj   revenue_adj  \n",
       "0           6.5          2015  1.379999e+08  1.392446e+09  \n",
       "1           7.1          2015  1.379999e+08  3.481613e+08  \n",
       "2           6.3          2015  1.012000e+08  2.716190e+08  \n",
       "3           7.5          2015  1.839999e+08  1.902723e+09  \n",
       "4           7.3          2015  1.747999e+08  1.385749e+09  \n",
       "\n",
       "[5 rows x 21 columns]"
      ]
     },
     "execution_count": 3,
     "metadata": {},
     "output_type": "execute_result"
    }
   ],
   "source": [
    "df.head()"
   ]
  },
  {
   "cell_type": "code",
   "execution_count": 4,
   "metadata": {},
   "outputs": [
    {
     "data": {
      "text/plain": [
       "(10866, 21)"
      ]
     },
     "execution_count": 4,
     "metadata": {},
     "output_type": "execute_result"
    }
   ],
   "source": [
    "df.shape"
   ]
  },
  {
   "cell_type": "code",
   "execution_count": 5,
   "metadata": {},
   "outputs": [
    {
     "name": "stdout",
     "output_type": "stream",
     "text": [
      "<class 'pandas.core.frame.DataFrame'>\n",
      "RangeIndex: 10866 entries, 0 to 10865\n",
      "Data columns (total 21 columns):\n",
      " #   Column                Non-Null Count  Dtype  \n",
      "---  ------                --------------  -----  \n",
      " 0   id                    10866 non-null  int64  \n",
      " 1   imdb_id               10856 non-null  object \n",
      " 2   popularity            10866 non-null  float64\n",
      " 3   budget                10866 non-null  int64  \n",
      " 4   revenue               10866 non-null  int64  \n",
      " 5   original_title        10866 non-null  object \n",
      " 6   cast                  10790 non-null  object \n",
      " 7   homepage              2936 non-null   object \n",
      " 8   director              10822 non-null  object \n",
      " 9   tagline               8042 non-null   object \n",
      " 10  keywords              9373 non-null   object \n",
      " 11  overview              10862 non-null  object \n",
      " 12  runtime               10866 non-null  int64  \n",
      " 13  genres                10843 non-null  object \n",
      " 14  production_companies  9836 non-null   object \n",
      " 15  release_date          10866 non-null  object \n",
      " 16  vote_count            10866 non-null  int64  \n",
      " 17  vote_average          10866 non-null  float64\n",
      " 18  release_year          10866 non-null  int64  \n",
      " 19  budget_adj            10866 non-null  float64\n",
      " 20  revenue_adj           10866 non-null  float64\n",
      "dtypes: float64(4), int64(6), object(11)\n",
      "memory usage: 1.7+ MB\n"
     ]
    }
   ],
   "source": [
    "df.info()"
   ]
  },
  {
   "cell_type": "markdown",
   "metadata": {},
   "source": [
    "#### Is there any duplicates?"
   ]
  },
  {
   "cell_type": "code",
   "execution_count": 6,
   "metadata": {
    "scrolled": true
   },
   "outputs": [
    {
     "data": {
      "text/plain": [
       "1"
      ]
     },
     "execution_count": 6,
     "metadata": {},
     "output_type": "execute_result"
    }
   ],
   "source": [
    "sum(df.duplicated())"
   ]
  },
  {
   "cell_type": "markdown",
   "metadata": {},
   "source": [
    "> The answer is yes there is one."
   ]
  },
  {
   "cell_type": "markdown",
   "metadata": {},
   "source": [
    "### Data Cleaning "
   ]
  },
  {
   "cell_type": "markdown",
   "metadata": {},
   "source": [
    "#### First let's drop the duplicate:"
   ]
  },
  {
   "cell_type": "code",
   "execution_count": 7,
   "metadata": {},
   "outputs": [],
   "source": [
    "df.drop_duplicates(inplace=True)"
   ]
  },
  {
   "cell_type": "code",
   "execution_count": 8,
   "metadata": {},
   "outputs": [
    {
     "data": {
      "text/plain": [
       "0"
      ]
     },
     "execution_count": 8,
     "metadata": {},
     "output_type": "execute_result"
    }
   ],
   "source": [
    "# making sure ther is no duplicates\n",
    "sum(df.duplicated())"
   ]
  },
  {
   "cell_type": "markdown",
   "metadata": {},
   "source": [
    "#### Drop the columns that i don't want  (Director,  runtime,  release_date,  cast imdb_id,  homepage tagline,  keywords & overview)"
   ]
  },
  {
   "cell_type": "code",
   "execution_count": 9,
   "metadata": {},
   "outputs": [
    {
     "name": "stdout",
     "output_type": "stream",
     "text": [
      "<class 'pandas.core.frame.DataFrame'>\n",
      "Int64Index: 10865 entries, 0 to 10865\n",
      "Data columns (total 12 columns):\n",
      " #   Column                Non-Null Count  Dtype  \n",
      "---  ------                --------------  -----  \n",
      " 0   id                    10865 non-null  int64  \n",
      " 1   popularity            10865 non-null  float64\n",
      " 2   budget                10865 non-null  int64  \n",
      " 3   revenue               10865 non-null  int64  \n",
      " 4   original_title        10865 non-null  object \n",
      " 5   genres                10842 non-null  object \n",
      " 6   production_companies  9835 non-null   object \n",
      " 7   vote_count            10865 non-null  int64  \n",
      " 8   vote_average          10865 non-null  float64\n",
      " 9   release_year          10865 non-null  int64  \n",
      " 10  budget_adj            10865 non-null  float64\n",
      " 11  revenue_adj           10865 non-null  float64\n",
      "dtypes: float64(4), int64(5), object(3)\n",
      "memory usage: 1.1+ MB\n"
     ]
    }
   ],
   "source": [
    "df=df.drop([ 'director', 'runtime','release_date','cast','imdb_id','homepage','tagline','keywords','overview'], axis=1)\n",
    "df.info()"
   ]
  },
  {
   "cell_type": "code",
   "execution_count": 10,
   "metadata": {},
   "outputs": [
    {
     "data": {
      "text/plain": [
       "id                         0\n",
       "popularity                 0\n",
       "budget                     0\n",
       "revenue                    0\n",
       "original_title             0\n",
       "genres                    23\n",
       "production_companies    1030\n",
       "vote_count                 0\n",
       "vote_average               0\n",
       "release_year               0\n",
       "budget_adj                 0\n",
       "revenue_adj                0\n",
       "dtype: int64"
      ]
     },
     "execution_count": 10,
     "metadata": {},
     "output_type": "execute_result"
    }
   ],
   "source": [
    "## how many null values\n",
    "df.isnull().sum()"
   ]
  },
  {
   "cell_type": "code",
   "execution_count": 11,
   "metadata": {},
   "outputs": [
    {
     "data": {
      "text/plain": [
       "id                      0\n",
       "popularity              0\n",
       "budget                  0\n",
       "revenue                 0\n",
       "original_title          0\n",
       "genres                  0\n",
       "production_companies    0\n",
       "vote_count              0\n",
       "vote_average            0\n",
       "release_year            0\n",
       "budget_adj              0\n",
       "revenue_adj             0\n",
       "dtype: int64"
      ]
     },
     "execution_count": 11,
     "metadata": {},
     "output_type": "execute_result"
    }
   ],
   "source": [
    "## filling the null with 'unknown' \n",
    "df.fillna('unknown', inplace=True)\n",
    "df.isnull().sum()"
   ]
  },
  {
   "cell_type": "code",
   "execution_count": 12,
   "metadata": {
    "scrolled": true
   },
   "outputs": [
    {
     "name": "stdout",
     "output_type": "stream",
     "text": [
      "<class 'pandas.core.frame.DataFrame'>\n",
      "Int64Index: 10865 entries, 0 to 10865\n",
      "Data columns (total 12 columns):\n",
      " #   Column                Non-Null Count  Dtype  \n",
      "---  ------                --------------  -----  \n",
      " 0   id                    10865 non-null  int64  \n",
      " 1   popularity            10865 non-null  float64\n",
      " 2   budget                10865 non-null  int64  \n",
      " 3   revenue               10865 non-null  int64  \n",
      " 4   original_title        10865 non-null  object \n",
      " 5   genres                10865 non-null  object \n",
      " 6   production_companies  10865 non-null  object \n",
      " 7   vote_count            10865 non-null  int64  \n",
      " 8   vote_average          10865 non-null  float64\n",
      " 9   release_year          10865 non-null  int64  \n",
      " 10  budget_adj            10865 non-null  float64\n",
      " 11  revenue_adj           10865 non-null  float64\n",
      "dtypes: float64(4), int64(5), object(3)\n",
      "memory usage: 1.1+ MB\n"
     ]
    }
   ],
   "source": [
    "df.info()"
   ]
  },
  {
   "cell_type": "markdown",
   "metadata": {},
   "source": [
    "#### Now the Data are ready for answering the questions."
   ]
  },
  {
   "cell_type": "markdown",
   "metadata": {},
   "source": [
    "<a id='eda'></a>\n",
    "## Exploratory Data Analysis\n",
    "\n",
    "\n",
    "\n",
    "### Let's have a General look:"
   ]
  },
  {
   "cell_type": "code",
   "execution_count": 13,
   "metadata": {},
   "outputs": [
    {
     "data": {
      "text/html": [
       "<div>\n",
       "<style scoped>\n",
       "    .dataframe tbody tr th:only-of-type {\n",
       "        vertical-align: middle;\n",
       "    }\n",
       "\n",
       "    .dataframe tbody tr th {\n",
       "        vertical-align: top;\n",
       "    }\n",
       "\n",
       "    .dataframe thead th {\n",
       "        text-align: right;\n",
       "    }\n",
       "</style>\n",
       "<table border=\"1\" class=\"dataframe\">\n",
       "  <thead>\n",
       "    <tr style=\"text-align: right;\">\n",
       "      <th></th>\n",
       "      <th>id</th>\n",
       "      <th>popularity</th>\n",
       "      <th>budget</th>\n",
       "      <th>revenue</th>\n",
       "      <th>vote_count</th>\n",
       "      <th>vote_average</th>\n",
       "      <th>release_year</th>\n",
       "      <th>budget_adj</th>\n",
       "      <th>revenue_adj</th>\n",
       "    </tr>\n",
       "  </thead>\n",
       "  <tbody>\n",
       "    <tr>\n",
       "      <th>count</th>\n",
       "      <td>10865.000000</td>\n",
       "      <td>10865.000000</td>\n",
       "      <td>1.086500e+04</td>\n",
       "      <td>1.086500e+04</td>\n",
       "      <td>10865.000000</td>\n",
       "      <td>10865.000000</td>\n",
       "      <td>10865.000000</td>\n",
       "      <td>1.086500e+04</td>\n",
       "      <td>1.086500e+04</td>\n",
       "    </tr>\n",
       "    <tr>\n",
       "      <th>mean</th>\n",
       "      <td>66066.374413</td>\n",
       "      <td>0.646446</td>\n",
       "      <td>1.462429e+07</td>\n",
       "      <td>3.982690e+07</td>\n",
       "      <td>217.399632</td>\n",
       "      <td>5.975012</td>\n",
       "      <td>2001.321859</td>\n",
       "      <td>1.754989e+07</td>\n",
       "      <td>5.136900e+07</td>\n",
       "    </tr>\n",
       "    <tr>\n",
       "      <th>std</th>\n",
       "      <td>92134.091971</td>\n",
       "      <td>1.000231</td>\n",
       "      <td>3.091428e+07</td>\n",
       "      <td>1.170083e+08</td>\n",
       "      <td>575.644627</td>\n",
       "      <td>0.935138</td>\n",
       "      <td>12.813260</td>\n",
       "      <td>3.430753e+07</td>\n",
       "      <td>1.446383e+08</td>\n",
       "    </tr>\n",
       "    <tr>\n",
       "      <th>min</th>\n",
       "      <td>5.000000</td>\n",
       "      <td>0.000065</td>\n",
       "      <td>0.000000e+00</td>\n",
       "      <td>0.000000e+00</td>\n",
       "      <td>10.000000</td>\n",
       "      <td>1.500000</td>\n",
       "      <td>1960.000000</td>\n",
       "      <td>0.000000e+00</td>\n",
       "      <td>0.000000e+00</td>\n",
       "    </tr>\n",
       "    <tr>\n",
       "      <th>25%</th>\n",
       "      <td>10596.000000</td>\n",
       "      <td>0.207575</td>\n",
       "      <td>0.000000e+00</td>\n",
       "      <td>0.000000e+00</td>\n",
       "      <td>17.000000</td>\n",
       "      <td>5.400000</td>\n",
       "      <td>1995.000000</td>\n",
       "      <td>0.000000e+00</td>\n",
       "      <td>0.000000e+00</td>\n",
       "    </tr>\n",
       "    <tr>\n",
       "      <th>50%</th>\n",
       "      <td>20662.000000</td>\n",
       "      <td>0.383831</td>\n",
       "      <td>0.000000e+00</td>\n",
       "      <td>0.000000e+00</td>\n",
       "      <td>38.000000</td>\n",
       "      <td>6.000000</td>\n",
       "      <td>2006.000000</td>\n",
       "      <td>0.000000e+00</td>\n",
       "      <td>0.000000e+00</td>\n",
       "    </tr>\n",
       "    <tr>\n",
       "      <th>75%</th>\n",
       "      <td>75612.000000</td>\n",
       "      <td>0.713857</td>\n",
       "      <td>1.500000e+07</td>\n",
       "      <td>2.400000e+07</td>\n",
       "      <td>146.000000</td>\n",
       "      <td>6.600000</td>\n",
       "      <td>2011.000000</td>\n",
       "      <td>2.085325e+07</td>\n",
       "      <td>3.370173e+07</td>\n",
       "    </tr>\n",
       "    <tr>\n",
       "      <th>max</th>\n",
       "      <td>417859.000000</td>\n",
       "      <td>32.985763</td>\n",
       "      <td>4.250000e+08</td>\n",
       "      <td>2.781506e+09</td>\n",
       "      <td>9767.000000</td>\n",
       "      <td>9.200000</td>\n",
       "      <td>2015.000000</td>\n",
       "      <td>4.250000e+08</td>\n",
       "      <td>2.827124e+09</td>\n",
       "    </tr>\n",
       "  </tbody>\n",
       "</table>\n",
       "</div>"
      ],
      "text/plain": [
       "                  id    popularity        budget       revenue    vote_count  \\\n",
       "count   10865.000000  10865.000000  1.086500e+04  1.086500e+04  10865.000000   \n",
       "mean    66066.374413      0.646446  1.462429e+07  3.982690e+07    217.399632   \n",
       "std     92134.091971      1.000231  3.091428e+07  1.170083e+08    575.644627   \n",
       "min         5.000000      0.000065  0.000000e+00  0.000000e+00     10.000000   \n",
       "25%     10596.000000      0.207575  0.000000e+00  0.000000e+00     17.000000   \n",
       "50%     20662.000000      0.383831  0.000000e+00  0.000000e+00     38.000000   \n",
       "75%     75612.000000      0.713857  1.500000e+07  2.400000e+07    146.000000   \n",
       "max    417859.000000     32.985763  4.250000e+08  2.781506e+09   9767.000000   \n",
       "\n",
       "       vote_average  release_year    budget_adj   revenue_adj  \n",
       "count  10865.000000  10865.000000  1.086500e+04  1.086500e+04  \n",
       "mean       5.975012   2001.321859  1.754989e+07  5.136900e+07  \n",
       "std        0.935138     12.813260  3.430753e+07  1.446383e+08  \n",
       "min        1.500000   1960.000000  0.000000e+00  0.000000e+00  \n",
       "25%        5.400000   1995.000000  0.000000e+00  0.000000e+00  \n",
       "50%        6.000000   2006.000000  0.000000e+00  0.000000e+00  \n",
       "75%        6.600000   2011.000000  2.085325e+07  3.370173e+07  \n",
       "max        9.200000   2015.000000  4.250000e+08  2.827124e+09  "
      ]
     },
     "execution_count": 13,
     "metadata": {},
     "output_type": "execute_result"
    }
   ],
   "source": [
    "df.describe()"
   ]
  },
  {
   "cell_type": "markdown",
   "metadata": {},
   "source": [
    "#### The budget & the  runtime have 0 values!! "
   ]
  },
  {
   "cell_type": "code",
   "execution_count": 14,
   "metadata": {
    "scrolled": true
   },
   "outputs": [
    {
     "data": {
      "text/html": [
       "<div>\n",
       "<style scoped>\n",
       "    .dataframe tbody tr th:only-of-type {\n",
       "        vertical-align: middle;\n",
       "    }\n",
       "\n",
       "    .dataframe tbody tr th {\n",
       "        vertical-align: top;\n",
       "    }\n",
       "\n",
       "    .dataframe thead th {\n",
       "        text-align: right;\n",
       "    }\n",
       "</style>\n",
       "<table border=\"1\" class=\"dataframe\">\n",
       "  <thead>\n",
       "    <tr style=\"text-align: right;\">\n",
       "      <th></th>\n",
       "      <th>id</th>\n",
       "      <th>popularity</th>\n",
       "      <th>budget</th>\n",
       "      <th>revenue</th>\n",
       "      <th>original_title</th>\n",
       "      <th>genres</th>\n",
       "      <th>production_companies</th>\n",
       "      <th>vote_count</th>\n",
       "      <th>vote_average</th>\n",
       "      <th>release_year</th>\n",
       "      <th>budget_adj</th>\n",
       "      <th>revenue_adj</th>\n",
       "    </tr>\n",
       "  </thead>\n",
       "  <tbody>\n",
       "    <tr>\n",
       "      <th>30</th>\n",
       "      <td>280996</td>\n",
       "      <td>3.927333</td>\n",
       "      <td>0</td>\n",
       "      <td>29355203</td>\n",
       "      <td>Mr. Holmes</td>\n",
       "      <td>Mystery|Drama</td>\n",
       "      <td>BBC Films|See-Saw Films|FilmNation Entertainme...</td>\n",
       "      <td>425</td>\n",
       "      <td>6.4</td>\n",
       "      <td>2015</td>\n",
       "      <td>0.0</td>\n",
       "      <td>2.700677e+07</td>\n",
       "    </tr>\n",
       "    <tr>\n",
       "      <th>36</th>\n",
       "      <td>339527</td>\n",
       "      <td>3.358321</td>\n",
       "      <td>0</td>\n",
       "      <td>22354572</td>\n",
       "      <td>Solace</td>\n",
       "      <td>Crime|Drama|Mystery</td>\n",
       "      <td>Eden Rock Media|FilmNation Entertainment|Flynn...</td>\n",
       "      <td>474</td>\n",
       "      <td>6.2</td>\n",
       "      <td>2015</td>\n",
       "      <td>0.0</td>\n",
       "      <td>2.056620e+07</td>\n",
       "    </tr>\n",
       "    <tr>\n",
       "      <th>72</th>\n",
       "      <td>284289</td>\n",
       "      <td>2.272044</td>\n",
       "      <td>0</td>\n",
       "      <td>45895</td>\n",
       "      <td>Beyond the Reach</td>\n",
       "      <td>Thriller</td>\n",
       "      <td>Furthur Films</td>\n",
       "      <td>81</td>\n",
       "      <td>5.5</td>\n",
       "      <td>2015</td>\n",
       "      <td>0.0</td>\n",
       "      <td>4.222338e+04</td>\n",
       "    </tr>\n",
       "    <tr>\n",
       "      <th>74</th>\n",
       "      <td>347096</td>\n",
       "      <td>2.165433</td>\n",
       "      <td>0</td>\n",
       "      <td>0</td>\n",
       "      <td>Mythica: The Darkspore</td>\n",
       "      <td>Action|Adventure|Fantasy</td>\n",
       "      <td>Arrowstorm Entertainment</td>\n",
       "      <td>27</td>\n",
       "      <td>5.1</td>\n",
       "      <td>2015</td>\n",
       "      <td>0.0</td>\n",
       "      <td>0.000000e+00</td>\n",
       "    </tr>\n",
       "    <tr>\n",
       "      <th>75</th>\n",
       "      <td>308369</td>\n",
       "      <td>2.141506</td>\n",
       "      <td>0</td>\n",
       "      <td>0</td>\n",
       "      <td>Me and Earl and the Dying Girl</td>\n",
       "      <td>Comedy|Drama</td>\n",
       "      <td>Indian Paintbrush</td>\n",
       "      <td>569</td>\n",
       "      <td>7.7</td>\n",
       "      <td>2015</td>\n",
       "      <td>0.0</td>\n",
       "      <td>0.000000e+00</td>\n",
       "    </tr>\n",
       "    <tr>\n",
       "      <th>...</th>\n",
       "      <td>...</td>\n",
       "      <td>...</td>\n",
       "      <td>...</td>\n",
       "      <td>...</td>\n",
       "      <td>...</td>\n",
       "      <td>...</td>\n",
       "      <td>...</td>\n",
       "      <td>...</td>\n",
       "      <td>...</td>\n",
       "      <td>...</td>\n",
       "      <td>...</td>\n",
       "      <td>...</td>\n",
       "    </tr>\n",
       "    <tr>\n",
       "      <th>10860</th>\n",
       "      <td>5060</td>\n",
       "      <td>0.087034</td>\n",
       "      <td>0</td>\n",
       "      <td>0</td>\n",
       "      <td>Carry On Screaming!</td>\n",
       "      <td>Comedy</td>\n",
       "      <td>Peter Rogers Productions|Anglo-Amalgamated Fil...</td>\n",
       "      <td>13</td>\n",
       "      <td>7.0</td>\n",
       "      <td>1966</td>\n",
       "      <td>0.0</td>\n",
       "      <td>0.000000e+00</td>\n",
       "    </tr>\n",
       "    <tr>\n",
       "      <th>10861</th>\n",
       "      <td>21</td>\n",
       "      <td>0.080598</td>\n",
       "      <td>0</td>\n",
       "      <td>0</td>\n",
       "      <td>The Endless Summer</td>\n",
       "      <td>Documentary</td>\n",
       "      <td>Bruce Brown Films</td>\n",
       "      <td>11</td>\n",
       "      <td>7.4</td>\n",
       "      <td>1966</td>\n",
       "      <td>0.0</td>\n",
       "      <td>0.000000e+00</td>\n",
       "    </tr>\n",
       "    <tr>\n",
       "      <th>10862</th>\n",
       "      <td>20379</td>\n",
       "      <td>0.065543</td>\n",
       "      <td>0</td>\n",
       "      <td>0</td>\n",
       "      <td>Grand Prix</td>\n",
       "      <td>Action|Adventure|Drama</td>\n",
       "      <td>Cherokee Productions|Joel Productions|Douglas ...</td>\n",
       "      <td>20</td>\n",
       "      <td>5.7</td>\n",
       "      <td>1966</td>\n",
       "      <td>0.0</td>\n",
       "      <td>0.000000e+00</td>\n",
       "    </tr>\n",
       "    <tr>\n",
       "      <th>10863</th>\n",
       "      <td>39768</td>\n",
       "      <td>0.065141</td>\n",
       "      <td>0</td>\n",
       "      <td>0</td>\n",
       "      <td>Beregis Avtomobilya</td>\n",
       "      <td>Mystery|Comedy</td>\n",
       "      <td>Mosfilm</td>\n",
       "      <td>11</td>\n",
       "      <td>6.5</td>\n",
       "      <td>1966</td>\n",
       "      <td>0.0</td>\n",
       "      <td>0.000000e+00</td>\n",
       "    </tr>\n",
       "    <tr>\n",
       "      <th>10864</th>\n",
       "      <td>21449</td>\n",
       "      <td>0.064317</td>\n",
       "      <td>0</td>\n",
       "      <td>0</td>\n",
       "      <td>What's Up, Tiger Lily?</td>\n",
       "      <td>Action|Comedy</td>\n",
       "      <td>Benedict Pictures Corp.</td>\n",
       "      <td>22</td>\n",
       "      <td>5.4</td>\n",
       "      <td>1966</td>\n",
       "      <td>0.0</td>\n",
       "      <td>0.000000e+00</td>\n",
       "    </tr>\n",
       "  </tbody>\n",
       "</table>\n",
       "<p>5696 rows × 12 columns</p>\n",
       "</div>"
      ],
      "text/plain": [
       "           id  popularity  budget   revenue                  original_title  \\\n",
       "30     280996    3.927333       0  29355203                      Mr. Holmes   \n",
       "36     339527    3.358321       0  22354572                          Solace   \n",
       "72     284289    2.272044       0     45895                Beyond the Reach   \n",
       "74     347096    2.165433       0         0          Mythica: The Darkspore   \n",
       "75     308369    2.141506       0         0  Me and Earl and the Dying Girl   \n",
       "...       ...         ...     ...       ...                             ...   \n",
       "10860    5060    0.087034       0         0             Carry On Screaming!   \n",
       "10861      21    0.080598       0         0              The Endless Summer   \n",
       "10862   20379    0.065543       0         0                      Grand Prix   \n",
       "10863   39768    0.065141       0         0             Beregis Avtomobilya   \n",
       "10864   21449    0.064317       0         0          What's Up, Tiger Lily?   \n",
       "\n",
       "                         genres  \\\n",
       "30                Mystery|Drama   \n",
       "36          Crime|Drama|Mystery   \n",
       "72                     Thriller   \n",
       "74     Action|Adventure|Fantasy   \n",
       "75                 Comedy|Drama   \n",
       "...                         ...   \n",
       "10860                    Comedy   \n",
       "10861               Documentary   \n",
       "10862    Action|Adventure|Drama   \n",
       "10863            Mystery|Comedy   \n",
       "10864             Action|Comedy   \n",
       "\n",
       "                                    production_companies  vote_count  \\\n",
       "30     BBC Films|See-Saw Films|FilmNation Entertainme...         425   \n",
       "36     Eden Rock Media|FilmNation Entertainment|Flynn...         474   \n",
       "72                                         Furthur Films          81   \n",
       "74                              Arrowstorm Entertainment          27   \n",
       "75                                     Indian Paintbrush         569   \n",
       "...                                                  ...         ...   \n",
       "10860  Peter Rogers Productions|Anglo-Amalgamated Fil...          13   \n",
       "10861                                  Bruce Brown Films          11   \n",
       "10862  Cherokee Productions|Joel Productions|Douglas ...          20   \n",
       "10863                                            Mosfilm          11   \n",
       "10864                            Benedict Pictures Corp.          22   \n",
       "\n",
       "       vote_average  release_year  budget_adj   revenue_adj  \n",
       "30              6.4          2015         0.0  2.700677e+07  \n",
       "36              6.2          2015         0.0  2.056620e+07  \n",
       "72              5.5          2015         0.0  4.222338e+04  \n",
       "74              5.1          2015         0.0  0.000000e+00  \n",
       "75              7.7          2015         0.0  0.000000e+00  \n",
       "...             ...           ...         ...           ...  \n",
       "10860           7.0          1966         0.0  0.000000e+00  \n",
       "10861           7.4          1966         0.0  0.000000e+00  \n",
       "10862           5.7          1966         0.0  0.000000e+00  \n",
       "10863           6.5          1966         0.0  0.000000e+00  \n",
       "10864           5.4          1966         0.0  0.000000e+00  \n",
       "\n",
       "[5696 rows x 12 columns]"
      ]
     },
     "execution_count": 14,
     "metadata": {},
     "output_type": "execute_result"
    }
   ],
   "source": [
    "#check the budget that have 0 values\n",
    "df[df['budget']==0]"
   ]
  },
  {
   "cell_type": "code",
   "execution_count": 15,
   "metadata": {},
   "outputs": [
    {
     "data": {
      "text/plain": [
       "id                      5696\n",
       "popularity              5696\n",
       "budget                  5696\n",
       "revenue                 5696\n",
       "original_title          5696\n",
       "genres                  5696\n",
       "production_companies    5696\n",
       "vote_count              5696\n",
       "vote_average            5696\n",
       "release_year            5696\n",
       "budget_adj              5696\n",
       "revenue_adj             5696\n",
       "dtype: int64"
      ]
     },
     "execution_count": 15,
     "metadata": {},
     "output_type": "execute_result"
    }
   ],
   "source": [
    "df.query('budget==0').count()"
   ]
  },
  {
   "cell_type": "markdown",
   "metadata": {},
   "source": [
    " #### Droping the 0 values:"
   ]
  },
  {
   "cell_type": "code",
   "execution_count": 16,
   "metadata": {},
   "outputs": [
    {
     "data": {
      "text/plain": [
       "0"
      ]
     },
     "execution_count": 16,
     "metadata": {},
     "output_type": "execute_result"
    }
   ],
   "source": [
    "df.drop(df[df.budget==0].index, inplace=True)\n",
    "df.query('budget==0').count().sum()"
   ]
  },
  {
   "cell_type": "code",
   "execution_count": 17,
   "metadata": {},
   "outputs": [
    {
     "data": {
      "text/html": [
       "<div>\n",
       "<style scoped>\n",
       "    .dataframe tbody tr th:only-of-type {\n",
       "        vertical-align: middle;\n",
       "    }\n",
       "\n",
       "    .dataframe tbody tr th {\n",
       "        vertical-align: top;\n",
       "    }\n",
       "\n",
       "    .dataframe thead th {\n",
       "        text-align: right;\n",
       "    }\n",
       "</style>\n",
       "<table border=\"1\" class=\"dataframe\">\n",
       "  <thead>\n",
       "    <tr style=\"text-align: right;\">\n",
       "      <th></th>\n",
       "      <th>id</th>\n",
       "      <th>popularity</th>\n",
       "      <th>budget</th>\n",
       "      <th>revenue</th>\n",
       "      <th>vote_count</th>\n",
       "      <th>vote_average</th>\n",
       "      <th>release_year</th>\n",
       "      <th>budget_adj</th>\n",
       "      <th>revenue_adj</th>\n",
       "    </tr>\n",
       "  </thead>\n",
       "  <tbody>\n",
       "    <tr>\n",
       "      <th>count</th>\n",
       "      <td>5169.000000</td>\n",
       "      <td>5169.000000</td>\n",
       "      <td>5.169000e+03</td>\n",
       "      <td>5.169000e+03</td>\n",
       "      <td>5169.000000</td>\n",
       "      <td>5169.000000</td>\n",
       "      <td>5169.000000</td>\n",
       "      <td>5.169000e+03</td>\n",
       "      <td>5.169000e+03</td>\n",
       "    </tr>\n",
       "    <tr>\n",
       "      <th>mean</th>\n",
       "      <td>45513.725479</td>\n",
       "      <td>0.992400</td>\n",
       "      <td>3.073958e+07</td>\n",
       "      <td>8.029101e+07</td>\n",
       "      <td>408.651190</td>\n",
       "      <td>6.032308</td>\n",
       "      <td>2001.251112</td>\n",
       "      <td>3.688907e+07</td>\n",
       "      <td>1.021953e+08</td>\n",
       "    </tr>\n",
       "    <tr>\n",
       "      <th>std</th>\n",
       "      <td>72730.345078</td>\n",
       "      <td>1.329262</td>\n",
       "      <td>3.890441e+07</td>\n",
       "      <td>1.594865e+08</td>\n",
       "      <td>788.314712</td>\n",
       "      <td>0.884125</td>\n",
       "      <td>11.776443</td>\n",
       "      <td>4.196096e+07</td>\n",
       "      <td>1.959194e+08</td>\n",
       "    </tr>\n",
       "    <tr>\n",
       "      <th>min</th>\n",
       "      <td>5.000000</td>\n",
       "      <td>0.001117</td>\n",
       "      <td>1.000000e+00</td>\n",
       "      <td>0.000000e+00</td>\n",
       "      <td>10.000000</td>\n",
       "      <td>1.500000</td>\n",
       "      <td>1960.000000</td>\n",
       "      <td>9.210911e-01</td>\n",
       "      <td>0.000000e+00</td>\n",
       "    </tr>\n",
       "    <tr>\n",
       "      <th>25%</th>\n",
       "      <td>8840.000000</td>\n",
       "      <td>0.347958</td>\n",
       "      <td>6.000000e+06</td>\n",
       "      <td>0.000000e+00</td>\n",
       "      <td>35.000000</td>\n",
       "      <td>5.500000</td>\n",
       "      <td>1996.000000</td>\n",
       "      <td>8.102293e+06</td>\n",
       "      <td>0.000000e+00</td>\n",
       "    </tr>\n",
       "    <tr>\n",
       "      <th>50%</th>\n",
       "      <td>13008.000000</td>\n",
       "      <td>0.624024</td>\n",
       "      <td>1.700000e+07</td>\n",
       "      <td>2.100156e+07</td>\n",
       "      <td>122.000000</td>\n",
       "      <td>6.100000</td>\n",
       "      <td>2005.000000</td>\n",
       "      <td>2.271505e+07</td>\n",
       "      <td>2.863167e+07</td>\n",
       "    </tr>\n",
       "    <tr>\n",
       "      <th>75%</th>\n",
       "      <td>44943.000000</td>\n",
       "      <td>1.152417</td>\n",
       "      <td>4.000000e+07</td>\n",
       "      <td>8.945676e+07</td>\n",
       "      <td>402.000000</td>\n",
       "      <td>6.600000</td>\n",
       "      <td>2010.000000</td>\n",
       "      <td>5.008384e+07</td>\n",
       "      <td>1.134196e+08</td>\n",
       "    </tr>\n",
       "    <tr>\n",
       "      <th>max</th>\n",
       "      <td>417859.000000</td>\n",
       "      <td>32.985763</td>\n",
       "      <td>4.250000e+08</td>\n",
       "      <td>2.781506e+09</td>\n",
       "      <td>9767.000000</td>\n",
       "      <td>8.400000</td>\n",
       "      <td>2015.000000</td>\n",
       "      <td>4.250000e+08</td>\n",
       "      <td>2.827124e+09</td>\n",
       "    </tr>\n",
       "  </tbody>\n",
       "</table>\n",
       "</div>"
      ],
      "text/plain": [
       "                  id   popularity        budget       revenue   vote_count  \\\n",
       "count    5169.000000  5169.000000  5.169000e+03  5.169000e+03  5169.000000   \n",
       "mean    45513.725479     0.992400  3.073958e+07  8.029101e+07   408.651190   \n",
       "std     72730.345078     1.329262  3.890441e+07  1.594865e+08   788.314712   \n",
       "min         5.000000     0.001117  1.000000e+00  0.000000e+00    10.000000   \n",
       "25%      8840.000000     0.347958  6.000000e+06  0.000000e+00    35.000000   \n",
       "50%     13008.000000     0.624024  1.700000e+07  2.100156e+07   122.000000   \n",
       "75%     44943.000000     1.152417  4.000000e+07  8.945676e+07   402.000000   \n",
       "max    417859.000000    32.985763  4.250000e+08  2.781506e+09  9767.000000   \n",
       "\n",
       "       vote_average  release_year    budget_adj   revenue_adj  \n",
       "count   5169.000000   5169.000000  5.169000e+03  5.169000e+03  \n",
       "mean       6.032308   2001.251112  3.688907e+07  1.021953e+08  \n",
       "std        0.884125     11.776443  4.196096e+07  1.959194e+08  \n",
       "min        1.500000   1960.000000  9.210911e-01  0.000000e+00  \n",
       "25%        5.500000   1996.000000  8.102293e+06  0.000000e+00  \n",
       "50%        6.100000   2005.000000  2.271505e+07  2.863167e+07  \n",
       "75%        6.600000   2010.000000  5.008384e+07  1.134196e+08  \n",
       "max        8.400000   2015.000000  4.250000e+08  2.827124e+09  "
      ]
     },
     "execution_count": 17,
     "metadata": {},
     "output_type": "execute_result"
    }
   ],
   "source": [
    "df.describe()"
   ]
  },
  {
   "cell_type": "markdown",
   "metadata": {},
   "source": [
    "#### Another look with hist, scatter figures "
   ]
  },
  {
   "cell_type": "code",
   "execution_count": 18,
   "metadata": {},
   "outputs": [
    {
     "data": {
      "image/png": "[encoded data removed]",
      "text/plain": [
       "<Figure size 1000x1000 with 9 Axes>"
      ]
     },
     "metadata": {},
     "output_type": "display_data"
    }
   ],
   "source": [
    "df.hist(figsize = (10, 10));"
   ]
  },
  {
   "cell_type": "markdown",
   "metadata": {},
   "source": [
    "### Question 1 .1 (What is the most popular gener? )"
   ]
  },
  {
   "cell_type": "code",
   "execution_count": 19,
   "metadata": {},
   "outputs": [
    {
     "data": {
      "text/html": [
       "<div>\n",
       "<style scoped>\n",
       "    .dataframe tbody tr th:only-of-type {\n",
       "        vertical-align: middle;\n",
       "    }\n",
       "\n",
       "    .dataframe tbody tr th {\n",
       "        vertical-align: top;\n",
       "    }\n",
       "\n",
       "    .dataframe thead th {\n",
       "        text-align: right;\n",
       "    }\n",
       "</style>\n",
       "<table border=\"1\" class=\"dataframe\">\n",
       "  <thead>\n",
       "    <tr style=\"text-align: right;\">\n",
       "      <th></th>\n",
       "      <th>id</th>\n",
       "      <th>popularity</th>\n",
       "      <th>budget</th>\n",
       "      <th>revenue</th>\n",
       "      <th>original_title</th>\n",
       "      <th>genres</th>\n",
       "      <th>production_companies</th>\n",
       "      <th>vote_count</th>\n",
       "      <th>vote_average</th>\n",
       "      <th>release_year</th>\n",
       "      <th>budget_adj</th>\n",
       "      <th>revenue_adj</th>\n",
       "    </tr>\n",
       "  </thead>\n",
       "  <tbody>\n",
       "    <tr>\n",
       "      <th>0</th>\n",
       "      <td>135397</td>\n",
       "      <td>32.985763</td>\n",
       "      <td>150000000</td>\n",
       "      <td>1513528810</td>\n",
       "      <td>Jurassic World</td>\n",
       "      <td>Action</td>\n",
       "      <td>Universal Studios|Amblin Entertainment|Legenda...</td>\n",
       "      <td>5562</td>\n",
       "      <td>6.5</td>\n",
       "      <td>2015</td>\n",
       "      <td>1.379999e+08</td>\n",
       "      <td>1.392446e+09</td>\n",
       "    </tr>\n",
       "    <tr>\n",
       "      <th>0</th>\n",
       "      <td>135397</td>\n",
       "      <td>32.985763</td>\n",
       "      <td>150000000</td>\n",
       "      <td>1513528810</td>\n",
       "      <td>Jurassic World</td>\n",
       "      <td>Adventure</td>\n",
       "      <td>Universal Studios|Amblin Entertainment|Legenda...</td>\n",
       "      <td>5562</td>\n",
       "      <td>6.5</td>\n",
       "      <td>2015</td>\n",
       "      <td>1.379999e+08</td>\n",
       "      <td>1.392446e+09</td>\n",
       "    </tr>\n",
       "    <tr>\n",
       "      <th>0</th>\n",
       "      <td>135397</td>\n",
       "      <td>32.985763</td>\n",
       "      <td>150000000</td>\n",
       "      <td>1513528810</td>\n",
       "      <td>Jurassic World</td>\n",
       "      <td>Science Fiction</td>\n",
       "      <td>Universal Studios|Amblin Entertainment|Legenda...</td>\n",
       "      <td>5562</td>\n",
       "      <td>6.5</td>\n",
       "      <td>2015</td>\n",
       "      <td>1.379999e+08</td>\n",
       "      <td>1.392446e+09</td>\n",
       "    </tr>\n",
       "    <tr>\n",
       "      <th>0</th>\n",
       "      <td>135397</td>\n",
       "      <td>32.985763</td>\n",
       "      <td>150000000</td>\n",
       "      <td>1513528810</td>\n",
       "      <td>Jurassic World</td>\n",
       "      <td>Thriller</td>\n",
       "      <td>Universal Studios|Amblin Entertainment|Legenda...</td>\n",
       "      <td>5562</td>\n",
       "      <td>6.5</td>\n",
       "      <td>2015</td>\n",
       "      <td>1.379999e+08</td>\n",
       "      <td>1.392446e+09</td>\n",
       "    </tr>\n",
       "    <tr>\n",
       "      <th>1</th>\n",
       "      <td>76341</td>\n",
       "      <td>28.419936</td>\n",
       "      <td>150000000</td>\n",
       "      <td>378436354</td>\n",
       "      <td>Mad Max: Fury Road</td>\n",
       "      <td>Action</td>\n",
       "      <td>Village Roadshow Pictures|Kennedy Miller Produ...</td>\n",
       "      <td>6185</td>\n",
       "      <td>7.1</td>\n",
       "      <td>2015</td>\n",
       "      <td>1.379999e+08</td>\n",
       "      <td>3.481613e+08</td>\n",
       "    </tr>\n",
       "  </tbody>\n",
       "</table>\n",
       "</div>"
      ],
      "text/plain": [
       "       id  popularity     budget     revenue      original_title  \\\n",
       "0  135397   32.985763  150000000  1513528810      Jurassic World   \n",
       "0  135397   32.985763  150000000  1513528810      Jurassic World   \n",
       "0  135397   32.985763  150000000  1513528810      Jurassic World   \n",
       "0  135397   32.985763  150000000  1513528810      Jurassic World   \n",
       "1   76341   28.419936  150000000   378436354  Mad Max: Fury Road   \n",
       "\n",
       "            genres                               production_companies  \\\n",
       "0           Action  Universal Studios|Amblin Entertainment|Legenda...   \n",
       "0        Adventure  Universal Studios|Amblin Entertainment|Legenda...   \n",
       "0  Science Fiction  Universal Studios|Amblin Entertainment|Legenda...   \n",
       "0         Thriller  Universal Studios|Amblin Entertainment|Legenda...   \n",
       "1           Action  Village Roadshow Pictures|Kennedy Miller Produ...   \n",
       "\n",
       "   vote_count  vote_average  release_year    budget_adj   revenue_adj  \n",
       "0        5562           6.5          2015  1.379999e+08  1.392446e+09  \n",
       "0        5562           6.5          2015  1.379999e+08  1.392446e+09  \n",
       "0        5562           6.5          2015  1.379999e+08  1.392446e+09  \n",
       "0        5562           6.5          2015  1.379999e+08  1.392446e+09  \n",
       "1        6185           7.1          2015  1.379999e+08  3.481613e+08  "
      ]
     },
     "execution_count": 19,
     "metadata": {},
     "output_type": "execute_result"
    }
   ],
   "source": [
    "df=df.assign(genres=df.genres.str.split('|')).explode('genres')\n",
    "df.head()"
   ]
  },
  {
   "cell_type": "code",
   "execution_count": 20,
   "metadata": {},
   "outputs": [
    {
     "data": {
      "text/html": [
       "<div>\n",
       "<style scoped>\n",
       "    .dataframe tbody tr th:only-of-type {\n",
       "        vertical-align: middle;\n",
       "    }\n",
       "\n",
       "    .dataframe tbody tr th {\n",
       "        vertical-align: top;\n",
       "    }\n",
       "\n",
       "    .dataframe thead th {\n",
       "        text-align: right;\n",
       "    }\n",
       "</style>\n",
       "<table border=\"1\" class=\"dataframe\">\n",
       "  <thead>\n",
       "    <tr style=\"text-align: right;\">\n",
       "      <th></th>\n",
       "      <th>genres</th>\n",
       "      <th>popularity</th>\n",
       "    </tr>\n",
       "  </thead>\n",
       "  <tbody>\n",
       "    <tr>\n",
       "      <th>9</th>\n",
       "      <td>Foreign</td>\n",
       "      <td>0.195843</td>\n",
       "    </tr>\n",
       "    <tr>\n",
       "      <th>5</th>\n",
       "      <td>Documentary</td>\n",
       "      <td>0.258422</td>\n",
       "    </tr>\n",
       "    <tr>\n",
       "      <th>20</th>\n",
       "      <td>unknown</td>\n",
       "      <td>0.344172</td>\n",
       "    </tr>\n",
       "    <tr>\n",
       "      <th>16</th>\n",
       "      <td>TV Movie</td>\n",
       "      <td>0.422035</td>\n",
       "    </tr>\n",
       "    <tr>\n",
       "      <th>11</th>\n",
       "      <td>Horror</td>\n",
       "      <td>0.650551</td>\n",
       "    </tr>\n",
       "    <tr>\n",
       "      <th>10</th>\n",
       "      <td>History</td>\n",
       "      <td>0.795423</td>\n",
       "    </tr>\n",
       "    <tr>\n",
       "      <th>12</th>\n",
       "      <td>Music</td>\n",
       "      <td>0.799455</td>\n",
       "    </tr>\n",
       "    <tr>\n",
       "      <th>14</th>\n",
       "      <td>Romance</td>\n",
       "      <td>0.842563</td>\n",
       "    </tr>\n",
       "    <tr>\n",
       "      <th>6</th>\n",
       "      <td>Drama</td>\n",
       "      <td>0.859592</td>\n",
       "    </tr>\n",
       "    <tr>\n",
       "      <th>3</th>\n",
       "      <td>Comedy</td>\n",
       "      <td>0.882567</td>\n",
       "    </tr>\n",
       "    <tr>\n",
       "      <th>19</th>\n",
       "      <td>Western</td>\n",
       "      <td>0.914301</td>\n",
       "    </tr>\n",
       "    <tr>\n",
       "      <th>13</th>\n",
       "      <td>Mystery</td>\n",
       "      <td>0.973728</td>\n",
       "    </tr>\n",
       "    <tr>\n",
       "      <th>4</th>\n",
       "      <td>Crime</td>\n",
       "      <td>0.987654</td>\n",
       "    </tr>\n",
       "    <tr>\n",
       "      <th>17</th>\n",
       "      <td>Thriller</td>\n",
       "      <td>1.035913</td>\n",
       "    </tr>\n",
       "    <tr>\n",
       "      <th>18</th>\n",
       "      <td>War</td>\n",
       "      <td>1.053196</td>\n",
       "    </tr>\n",
       "    <tr>\n",
       "      <th>7</th>\n",
       "      <td>Family</td>\n",
       "      <td>1.269229</td>\n",
       "    </tr>\n",
       "    <tr>\n",
       "      <th>0</th>\n",
       "      <td>Action</td>\n",
       "      <td>1.298258</td>\n",
       "    </tr>\n",
       "    <tr>\n",
       "      <th>2</th>\n",
       "      <td>Animation</td>\n",
       "      <td>1.455120</td>\n",
       "    </tr>\n",
       "    <tr>\n",
       "      <th>8</th>\n",
       "      <td>Fantasy</td>\n",
       "      <td>1.469079</td>\n",
       "    </tr>\n",
       "    <tr>\n",
       "      <th>15</th>\n",
       "      <td>Science Fiction</td>\n",
       "      <td>1.501626</td>\n",
       "    </tr>\n",
       "    <tr>\n",
       "      <th>1</th>\n",
       "      <td>Adventure</td>\n",
       "      <td>1.621153</td>\n",
       "    </tr>\n",
       "  </tbody>\n",
       "</table>\n",
       "</div>"
      ],
      "text/plain": [
       "             genres  popularity\n",
       "9           Foreign    0.195843\n",
       "5       Documentary    0.258422\n",
       "20          unknown    0.344172\n",
       "16         TV Movie    0.422035\n",
       "11           Horror    0.650551\n",
       "10          History    0.795423\n",
       "12            Music    0.799455\n",
       "14          Romance    0.842563\n",
       "6             Drama    0.859592\n",
       "3            Comedy    0.882567\n",
       "19          Western    0.914301\n",
       "13          Mystery    0.973728\n",
       "4             Crime    0.987654\n",
       "17         Thriller    1.035913\n",
       "18              War    1.053196\n",
       "7            Family    1.269229\n",
       "0            Action    1.298258\n",
       "2         Animation    1.455120\n",
       "8           Fantasy    1.469079\n",
       "15  Science Fiction    1.501626\n",
       "1         Adventure    1.621153"
      ]
     },
     "execution_count": 20,
     "metadata": {},
     "output_type": "execute_result"
    }
   ],
   "source": [
    "df_geners_popularity=df.groupby(['genres'],as_index=False)['popularity'].mean().sort_values(by=['popularity'])\n",
    "df_geners_popularity"
   ]
  },
  {
   "cell_type": "code",
   "execution_count": 21,
   "metadata": {},
   "outputs": [],
   "source": [
    "x1=df_geners_popularity['genres']\n",
    "y1=df_geners_popularity['popularity']"
   ]
  },
  {
   "cell_type": "code",
   "execution_count": 28,
   "metadata": {
    "scrolled": false
   },
   "outputs": [
    {
     "data": {
      "text/plain": [
       "Text(0.5, 1.0, 'Top Popularity by geners')"
      ]
     },
     "execution_count": 28,
     "metadata": {},
     "output_type": "execute_result"
    },
    {
     "data": {
      "image/png": "[encoded data removed]",
      "text/plain": [
       "<Figure size 640x480 with 1 Axes>"
      ]
     },
     "metadata": {},
     "output_type": "display_data"
    }
   ],
   "source": [
    "plt.barh(x1,y1,color=\"red\",label='popularity')\n",
    "plt.legend()\n",
    "plt.xlabel('popularity')\n",
    "plt.ylabel('geners')\n",
    "plt.title('Top Popularity by geners')"
   ]
  },
  {
   "cell_type": "markdown",
   "metadata": {},
   "source": [
    "### Question 1.2  (What is the most profitable gener?)"
   ]
  },
  {
   "cell_type": "code",
   "execution_count": 23,
   "metadata": {},
   "outputs": [
    {
     "data": {
      "text/html": [
       "<div>\n",
       "<style scoped>\n",
       "    .dataframe tbody tr th:only-of-type {\n",
       "        vertical-align: middle;\n",
       "    }\n",
       "\n",
       "    .dataframe tbody tr th {\n",
       "        vertical-align: top;\n",
       "    }\n",
       "\n",
       "    .dataframe thead th {\n",
       "        text-align: right;\n",
       "    }\n",
       "</style>\n",
       "<table border=\"1\" class=\"dataframe\">\n",
       "  <thead>\n",
       "    <tr style=\"text-align: right;\">\n",
       "      <th></th>\n",
       "      <th>genres</th>\n",
       "      <th>revenue_adj</th>\n",
       "    </tr>\n",
       "  </thead>\n",
       "  <tbody>\n",
       "    <tr>\n",
       "      <th>20</th>\n",
       "      <td>unknown</td>\n",
       "      <td>0.000000e+00</td>\n",
       "    </tr>\n",
       "    <tr>\n",
       "      <th>16</th>\n",
       "      <td>TV Movie</td>\n",
       "      <td>5.838910e+07</td>\n",
       "    </tr>\n",
       "    <tr>\n",
       "      <th>9</th>\n",
       "      <td>Foreign</td>\n",
       "      <td>1.655391e+08</td>\n",
       "    </tr>\n",
       "    <tr>\n",
       "      <th>5</th>\n",
       "      <td>Documentary</td>\n",
       "      <td>8.682158e+08</td>\n",
       "    </tr>\n",
       "    <tr>\n",
       "      <th>19</th>\n",
       "      <td>Western</td>\n",
       "      <td>7.055088e+09</td>\n",
       "    </tr>\n",
       "    <tr>\n",
       "      <th>10</th>\n",
       "      <td>History</td>\n",
       "      <td>1.569436e+10</td>\n",
       "    </tr>\n",
       "    <tr>\n",
       "      <th>12</th>\n",
       "      <td>Music</td>\n",
       "      <td>1.830098e+10</td>\n",
       "    </tr>\n",
       "    <tr>\n",
       "      <th>18</th>\n",
       "      <td>War</td>\n",
       "      <td>1.855188e+10</td>\n",
       "    </tr>\n",
       "    <tr>\n",
       "      <th>11</th>\n",
       "      <td>Horror</td>\n",
       "      <td>3.769124e+10</td>\n",
       "    </tr>\n",
       "    <tr>\n",
       "      <th>13</th>\n",
       "      <td>Mystery</td>\n",
       "      <td>3.908563e+10</td>\n",
       "    </tr>\n",
       "    <tr>\n",
       "      <th>2</th>\n",
       "      <td>Animation</td>\n",
       "      <td>5.848243e+10</td>\n",
       "    </tr>\n",
       "    <tr>\n",
       "      <th>4</th>\n",
       "      <td>Crime</td>\n",
       "      <td>7.186723e+10</td>\n",
       "    </tr>\n",
       "    <tr>\n",
       "      <th>14</th>\n",
       "      <td>Romance</td>\n",
       "      <td>7.571774e+10</td>\n",
       "    </tr>\n",
       "    <tr>\n",
       "      <th>8</th>\n",
       "      <td>Fantasy</td>\n",
       "      <td>9.899713e+10</td>\n",
       "    </tr>\n",
       "    <tr>\n",
       "      <th>7</th>\n",
       "      <td>Family</td>\n",
       "      <td>1.036112e+11</td>\n",
       "    </tr>\n",
       "    <tr>\n",
       "      <th>15</th>\n",
       "      <td>Science Fiction</td>\n",
       "      <td>1.049175e+11</td>\n",
       "    </tr>\n",
       "    <tr>\n",
       "      <th>17</th>\n",
       "      <td>Thriller</td>\n",
       "      <td>1.543178e+11</td>\n",
       "    </tr>\n",
       "    <tr>\n",
       "      <th>3</th>\n",
       "      <td>Comedy</td>\n",
       "      <td>1.647370e+11</td>\n",
       "    </tr>\n",
       "    <tr>\n",
       "      <th>6</th>\n",
       "      <td>Drama</td>\n",
       "      <td>1.780206e+11</td>\n",
       "    </tr>\n",
       "    <tr>\n",
       "      <th>1</th>\n",
       "      <td>Adventure</td>\n",
       "      <td>2.032842e+11</td>\n",
       "    </tr>\n",
       "    <tr>\n",
       "      <th>0</th>\n",
       "      <td>Action</td>\n",
       "      <td>2.119959e+11</td>\n",
       "    </tr>\n",
       "  </tbody>\n",
       "</table>\n",
       "</div>"
      ],
      "text/plain": [
       "             genres   revenue_adj\n",
       "20          unknown  0.000000e+00\n",
       "16         TV Movie  5.838910e+07\n",
       "9           Foreign  1.655391e+08\n",
       "5       Documentary  8.682158e+08\n",
       "19          Western  7.055088e+09\n",
       "10          History  1.569436e+10\n",
       "12            Music  1.830098e+10\n",
       "18              War  1.855188e+10\n",
       "11           Horror  3.769124e+10\n",
       "13          Mystery  3.908563e+10\n",
       "2         Animation  5.848243e+10\n",
       "4             Crime  7.186723e+10\n",
       "14          Romance  7.571774e+10\n",
       "8           Fantasy  9.899713e+10\n",
       "7            Family  1.036112e+11\n",
       "15  Science Fiction  1.049175e+11\n",
       "17         Thriller  1.543178e+11\n",
       "3            Comedy  1.647370e+11\n",
       "6             Drama  1.780206e+11\n",
       "1         Adventure  2.032842e+11\n",
       "0            Action  2.119959e+11"
      ]
     },
     "execution_count": 23,
     "metadata": {},
     "output_type": "execute_result"
    }
   ],
   "source": [
    "df_geners_profit=df.groupby(['genres'],as_index=False)['revenue_adj'].sum().sort_values(by=['revenue_adj'])\n",
    "df_geners_profit"
   ]
  },
  {
   "cell_type": "code",
   "execution_count": 24,
   "metadata": {},
   "outputs": [],
   "source": [
    "x2=df_geners_profit['genres']\n",
    "y2=df_geners_profit['revenue_adj']"
   ]
  },
  {
   "cell_type": "code",
   "execution_count": 27,
   "metadata": {},
   "outputs": [
    {
     "data": {
      "text/plain": [
       "Text(0.5, 1.0, 'Top Profits by geners')"
      ]
     },
     "execution_count": 27,
     "metadata": {},
     "output_type": "execute_result"
    },
    {
     "data": {
      "image/png": "[encoded data removed]",
      "text/plain": [
       "<Figure size 640x480 with 1 Axes>"
      ]
     },
     "metadata": {},
     "output_type": "display_data"
    }
   ],
   "source": [
    "plt.barh(x2,y2,color=\"green\",label='profit')\n",
    "plt.legend()\n",
    "plt.xlabel('profit')\n",
    "plt.ylabel('geners')\n",
    "plt.title('Top Profits by geners')"
   ]
  },
  {
   "cell_type": "markdown",
   "metadata": {},
   "source": [
    "### Question 2 (Is the movie industry's profit increasing over the year?)"
   ]
  },
  {
   "cell_type": "code",
   "execution_count": 26,
   "metadata": {},
   "outputs": [
    {
     "data": {
      "image/png": "[encoded data removed]",
      "text/plain": [
       "<Figure size 1560x780 with 1 Axes>"
      ]
     },
     "metadata": {},
     "output_type": "display_data"
    }
   ],
   "source": [
    "# I will be use Line plot for this\n",
    "#Since i want to know the profits of movies for every year therefore we have to sum up all the movies of a particular year\n",
    "\n",
    "profits_year = df.groupby('release_year')['revenue'].sum()\n",
    "\n",
    "#figure size(width, height)\n",
    "plt.figure(figsize=(12,6), dpi = 130)\n",
    "\n",
    "#on x-axis\n",
    "plt.xlabel('Year Of Release', fontsize = 20)\n",
    "#on y-axis\n",
    "plt.ylabel('Profits earned by Movies', fontsize = 20)\n",
    "#Title of The line plot\n",
    "plt.title('Total Profits earned by all movies')\n",
    "\n",
    "#plotting the graph\n",
    "plt.plot(profits_year)\n",
    "\n",
    "#displaying the line plot\n",
    "plt.show()"
   ]
  },
  {
   "cell_type": "markdown",
   "metadata": {},
   "source": [
    "### Question 3 (Is there a relationship in populartiy and rating?)"
   ]
  },
  {
   "cell_type": "code",
   "execution_count": 48,
   "metadata": {},
   "outputs": [
    {
     "data": {
      "image/png": "[encoded data removed]",
      "text/plain": [
       "<Figure size 640x480 with 1 Axes>"
      ]
     },
     "metadata": {},
     "output_type": "display_data"
    }
   ],
   "source": [
    "# Scatter plot of Revenue vs Popularity\n",
    "df.plot(x='popularity',y='revenue',kind='scatter')\n",
    "plt.title('Popularity Vs Revenue')\n",
    "plt.xlabel('Popularity')\n",
    "plt.ylabel('Revenue');"
   ]
  },
  {
   "cell_type": "markdown",
   "metadata": {},
   "source": [
    "<a id='conclusions'></a>\n",
    "## Conclusions\n"
   ]
  },
  {
   "cell_type": "markdown",
   "metadata": {
    "collapsed": true
   },
   "source": [
    "> Quetion 1 answer is: 1.1:The most popular genre is advanture.  1.2 The most profitable genre is action."
   ]
  },
  {
   "cell_type": "markdown",
   "metadata": {},
   "source": [
    "> Quetion 2 answer is: Yes, the profit of movies industry is increasing over the year."
   ]
  },
  {
   "cell_type": "markdown",
   "metadata": {},
   "source": [
    "> Quetion 3 answer is: Yes the Revenue is increasing with increase in Popularity."
   ]
  },
  {
   "cell_type": "markdown",
   "metadata": {},
   "source": [
    "### Limitations:"
   ]
  },
  {
   "cell_type": "markdown",
   "metadata": {},
   "source": [
    "> The data has a lot of limitation such as the null in the production_companies column, that i have to change it with 'Unknowm'.\n",
    "  And the zero values in budjet and revenue and i drop them."
   ]
  },
  {
   "cell_type": "code",
   "execution_count": null,
   "metadata": {},
   "outputs": [],
   "source": []
  }
 ],
 "metadata": {
  "kernelspec": {
   "display_name": "Python 3 (ipykernel)",
   "language": "python",
   "name": "python3"
  },
  "language_info": {
   "codemirror_mode": {
    "name": "ipython",
    "version": 3
   },
   "file_extension": ".py",
   "mimetype": "text/x-python",
   "name": "python",
   "nbconvert_exporter": "python",
   "pygments_lexer": "ipython3",
   "version": "3.9.13"
  }
 },
 "nbformat": 4,
 "nbformat_minor": 2
}
